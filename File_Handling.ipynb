{
 "cells": [
  {
   "cell_type": "code",
   "execution_count": 1,
   "id": "814a7237-ca26-407e-a351-d838161ec509",
   "metadata": {},
   "outputs": [
    {
     "name": "stdout",
     "output_type": "stream",
     "text": [
      "Hello, world\n"
     ]
    }
   ],
   "source": [
    "#1\n",
    "# Writing to a file\n",
    "with open('example.txt', 'w') as file:\n",
    "    file.write(\"Hello, world\")\n",
    "# Reading from a file\n",
    "with open('example.txt', 'r') as file:\n",
    "    content = file.read()\n",
    "    print(content)\n",
    "# Appending to a file\n",
    "with open('example.txt', 'a') as file:\n",
    "    file.write(\"\\nThis is an appended line.\")\n"
   ]
  },
  {
   "cell_type": "code",
   "execution_count": 7,
   "id": "287286ce-3b69-404a-be1d-eda009489c32",
   "metadata": {},
   "outputs": [
    {
     "name": "stdout",
     "output_type": "stream",
     "text": [
      "['Apple', 'Banana', 'Cherry', 'Date']\n"
     ]
    }
   ],
   "source": [
    "#2\n",
    "# Writing a list to a file\n",
    "my_list = [\"Apple\", \"Banana\", \"Cherry\", \"Date\"]\n",
    "\n",
    "with open('list_file.txt', 'w') as file:\n",
    "    for item in my_list:\n",
    "        file.write(item + \"\\n\")  # Each item is written on a new line\n",
    "# Reading a list from a file\n",
    "with open('list_file.txt', 'r') as file:\n",
    "    content = file.readlines()\n",
    "    content = [line.strip() for line in content]  # Removing newline characters\n",
    "    print(content)\n"
   ]
  },
  {
   "cell_type": "code",
   "execution_count": 17,
   "id": "2044a227-ea3e-4264-bfcc-0b77c4889ba2",
   "metadata": {},
   "outputs": [],
   "source": [
    "# Create a source file with some content\n",
    "with open('source_file.txt', 'w') as source_file:\n",
    "    source_file.write(\"This is the content of the source file.\\n\")\n",
    "    source_file.write(\"We will copy this content to another file.\")\n",
    "# Copy content from one file to another\n",
    "with open('source_file.txt', 'r') as source_file:\n",
    "    content = source_file.read()  # Read all content from the source file\n",
    "\n",
    "with open('destination_file.txt', 'w') as destination_file:\n",
    "    destination_file.write(content)  # Write content to the destination file\n"
   ]
  },
  {
   "cell_type": "code",
   "execution_count": 15,
   "id": "45147094-1457-4025-b150-4f88af068469",
   "metadata": {},
   "outputs": [],
   "source": [
    "# Merge two files\n",
    "# Create the first file with some content\n",
    "with open('file1.txt', 'w') as file1:\n",
    "    file1.write(\"This is the content of the first file.\\n\")\n",
    "    file1.write(\"It contains some lines of text.\")\n",
    "\n",
    "# Create the second file with some content\n",
    "with open('file2.txt', 'w') as file2:\n",
    "    file2.write(\"This is the content of the second file.\\n\")\n",
    "    file2.write(\"It also has multiple lines of text.\")\n",
    "\n",
    "with open('file1.txt', 'r') as file1:\n",
    "    content1 = file1.read()  # Read content of the first file\n",
    "\n",
    "with open('file2.txt', 'r') as file2:\n",
    "    content2 = file2.read()  # Read content of the second file\n",
    "\n",
    "with open('merged_file.txt', 'w') as merged_file:\n",
    "    merged_file.write(content1)  # Write content of the first file\n",
    "    merged_file.write(\"\\n\")  # Add a newline between the contents (optional)\n",
    "    merged_file.write(content2)  # Write content of the second file\n"
   ]
  },
  {
   "cell_type": "code",
   "execution_count": 21,
   "id": "339848d8-238e-4306-ad19-26f753a7991a",
   "metadata": {},
   "outputs": [
    {
     "name": "stdout",
     "output_type": "stream",
     "text": [
      "Lines: 3\n",
      "Words: 22\n",
      "Characters: 110\n"
     ]
    }
   ],
   "source": [
    "#3\n",
    "# Create a sample file with some content\n",
    "with open('example_file.txt', 'w') as file:\n",
    "    file.write(\"This is the first line.\\n\")\n",
    "    file.write(\"This is the second line with more text.\\n\")\n",
    "    file.write(\"Here is the third line with even more content.\")\n",
    "\n",
    "# Count words, lines, and characters in a file\n",
    "with open('example_file.txt', 'r') as file:\n",
    "    lines = file.readlines()  # Read all lines in the file\n",
    "    \n",
    "    # Counting the lines\n",
    "    num_lines = len(lines)\n",
    "    \n",
    "    # Counting the words and characters\n",
    "    num_words = 0\n",
    "    num_chars = 0\n",
    "    for line in lines:\n",
    "        words = line.split()  # Split the line into words\n",
    "        num_words += len(words)  # Count the number of words\n",
    "        num_chars += len(line)  # Count the number of characters\n",
    "\n",
    "print(f\"Lines: {num_lines}\")\n",
    "print(f\"Words: {num_words}\")\n",
    "print(f\"Characters: {num_chars}\")\n"
   ]
  },
  {
   "cell_type": "code",
   "execution_count": 23,
   "id": "ec96c704-10ae-44bb-9582-a4f0e3464d85",
   "metadata": {},
   "outputs": [
    {
     "name": "stdout",
     "output_type": "stream",
     "text": [
      "Text replacement complete.\n"
     ]
    }
   ],
   "source": [
    "# Replace text in a file\n",
    "with open('example_file.txt', 'r') as file:\n",
    "    content = file.read()  # Read all content of the file\n",
    "\n",
    "# Replace the text (e.g., replacing \"old_word\" with \"new_word\")\n",
    "new_content = content.replace('old_word', 'new_word')\n",
    "\n",
    "# Write the updated content back to the file\n",
    "with open('example_file.txt', 'w') as file:\n",
    "    file.write(new_content)\n",
    "\n",
    "print(\"Text replacement complete.\")\n"
   ]
  },
  {
   "cell_type": "code",
   "execution_count": 31,
   "id": "8de21a76-4b42-4a29-88c4-0c20550116c7",
   "metadata": {},
   "outputs": [
    {
     "name": "stdout",
     "output_type": "stream",
     "text": [
      "This is the first line.\n",
      "This is the second line wi\n",
      "This is the first line.\n",
      "This is the second line with more text.\n",
      "Here is the third line with even more content.\n"
     ]
    }
   ],
   "source": [
    "#4\n",
    "# Read a specific number of characters from a file\n",
    "with open('example_file.txt', 'r') as file:\n",
    "    num_chars = 50  # Specify the number of characters to read\n",
    "    content = file.read(num_chars)  # Read the first 50 characters\n",
    "    print(content)\n",
    "# Read all lines from a file using readlines()\n",
    "with open('example_file.txt', 'r') as file:\n",
    "    lines = file.readlines()  # Read all lines from the file\n",
    "    for line in lines:\n",
    "        print(line.strip())  # Print each line, removing extra newlines\n",
    "\n"
   ]
  },
  {
   "cell_type": "code",
   "execution_count": 35,
   "id": "b2edb5f7-4cd1-4f11-b142-38b0d0563050",
   "metadata": {},
   "outputs": [
    {
     "name": "stdout",
     "output_type": "stream",
     "text": [
      "Read Mode - Content:\n",
      "Hello, world\n",
      "This is an appended line.\n",
      "\n",
      "Final content after Write and Append:\n",
      "This is the new content, overwriting any previous content.\n",
      "This is the appended content at the end of the file.\n",
      "\n"
     ]
    }
   ],
   "source": [
    "#6\n",
    "# Example of Read, Write, and Append Modes\n",
    "\n",
    "# Read Mode Example\n",
    "with open('example.txt', 'r') as file:\n",
    "    content = file.read()\n",
    "    print(\"Read Mode - Content:\")\n",
    "    print(content)\n",
    "\n",
    "# Write Mode Example\n",
    "with open('example.txt', 'w') as file:\n",
    "    file.write(\"This is the new content, overwriting any previous content.\\n\")\n",
    "\n",
    "# Append Mode Example\n",
    "with open('example.txt', 'a') as file:\n",
    "    file.write(\"This is the appended content at the end of the file.\\n\")\n",
    "\n",
    "# Check the result\n",
    "with open('example.txt', 'r') as file:\n",
    "    print(\"\\nFinal content after Write and Append:\")\n",
    "    print(file.read())\n"
   ]
  },
  {
   "cell_type": "code",
   "execution_count": 39,
   "id": "de428ed9-8c0b-46ef-aae1-09e52b0007fb",
   "metadata": {},
   "outputs": [
    {
     "name": "stdout",
     "output_type": "stream",
     "text": [
      "Numbers written to 'numbers.txt'.\n",
      "Numbers have been sorted and written back to 'numbers.txt'.\n"
     ]
    }
   ],
   "source": [
    "#7\n",
    "# Step 1: Create the file and write numbers to it\n",
    "numbers = [12, 5, 8, 20, 3, 7]\n",
    "\n",
    "# Open the file in write mode and write numbers to it\n",
    "with open('numbers.txt', 'w') as file:\n",
    "    for number in numbers:\n",
    "        file.write(f\"{number}\\n\")\n",
    "\n",
    "print(\"Numbers written to 'numbers.txt'.\")\n",
    "\n",
    "# Step 2: Now read the numbers from the file, sort them, and write back\n",
    "with open('numbers.txt', 'r') as file:\n",
    "    numbers = file.readlines()  # Read all lines\n",
    "\n",
    "# Convert the list of string numbers to integers\n",
    "numbers = [int(number.strip()) for number in numbers]\n",
    "\n",
    "# Sort the numbers\n",
    "numbers.sort()\n",
    "\n",
    "# Write the sorted numbers back to the file\n",
    "with open('numbers.txt', 'w') as file:\n",
    "    for number in numbers:\n",
    "        file.write(f\"{number}\\n\")\n",
    "\n",
    "print(\"Numbers have been sorted and written back to 'numbers.txt'.\")\n"
   ]
  },
  {
   "cell_type": "code",
   "execution_count": 41,
   "id": "97012ce6-74b6-4ee0-bbb6-90599715176c",
   "metadata": {},
   "outputs": [
    {
     "name": "stdout",
     "output_type": "stream",
     "text": [
      "The message has been written to 'message.txt'.\n",
      "The message has been encrypted and written to 'encrypted_message.txt'.\n"
     ]
    }
   ],
   "source": [
    "#8\n",
    "# First, let's write a message to the file \"message.txt\"\n",
    "message_to_write = \"Hello, this is a secret message!\"\n",
    "\n",
    "# Open \"message.txt\" in write mode and write the message\n",
    "with open('message.txt', 'w') as file:\n",
    "    file.write(message_to_write)\n",
    "\n",
    "print(\"The message has been written to 'message.txt'.\")\n",
    "\n",
    "# Now, read the contents of the file \"message.txt\"\n",
    "with open('message.txt', 'r') as file:\n",
    "    message = file.read()  # Read all the content of the file\n",
    "\n",
    "# Define the Caesar cipher shift (e.g., shift of 3)\n",
    "shift = 3\n",
    "encrypted_message = \"\"\n",
    "\n",
    "# Loop through each character in the message\n",
    "for char in message:\n",
    "    # Check if the character is an uppercase letter\n",
    "    if 'A' <= char <= 'Z':\n",
    "        # Encrypt it by shifting and using modulo 26 to wrap around the alphabet\n",
    "        encrypted_char = chr((ord(char) - ord('A') + shift) % 26 + ord('A'))\n",
    "        encrypted_message += encrypted_char\n",
    "    # Check if the character is a lowercase letter\n",
    "    elif 'a' <= char <= 'z':\n",
    "        # Encrypt it by shifting and using modulo 26 to wrap around the alphabet\n",
    "        encrypted_char = chr((ord(char) - ord('a') + shift) % 26 + ord('a'))\n",
    "        encrypted_message += encrypted_char\n",
    "    else:\n",
    "        # Non-alphabet characters (like spaces or punctuation) are not changed\n",
    "        encrypted_message += char\n",
    "\n",
    "# Write the encrypted message back to a new file (\"encrypted_message.txt\")\n",
    "with open('encrypted_message.txt', 'w') as file:\n",
    "    file.write(encrypted_message)\n",
    "\n",
    "print(\"The message has been encrypted and written to 'encrypted_message.txt'.\")\n"
   ]
  },
  {
   "cell_type": "code",
   "execution_count": 43,
   "id": "c100ae7f-6223-4742-b8a5-736397a0d16d",
   "metadata": {},
   "outputs": [
    {
     "name": "stdout",
     "output_type": "stream",
     "text": [
      "The content has been written to 'search.txt'.\n",
      "Found 'Python' on line 2\n",
      "Found 'Python' on line 4\n"
     ]
    }
   ],
   "source": [
    "#9\n",
    "# First, let's write some content into the file \"search.txt\"\n",
    "content_to_write = \"\"\"This is a sample file.\n",
    "Python is a programming language.\n",
    "It is widely used for web development.\n",
    "Python can also be used for data science.\"\"\"\n",
    "\n",
    "# Open the file \"search.txt\" in write mode and write the content\n",
    "with open('search.txt', 'w') as file:\n",
    "    file.write(content_to_write)\n",
    "\n",
    "print(\"The content has been written to 'search.txt'.\")\n",
    "\n",
    "# Now, let's search for the word \"Python\" in the file \"search.txt\"\n",
    "with open('search.txt', 'r') as file:\n",
    "    lines = file.readlines()  # Read all lines from the file\n",
    "\n",
    "# Word to search for\n",
    "search_word = \"Python\"\n",
    "line_number = 1  # Start with line number 1\n",
    "\n",
    "# Loop through each line and check if the word \"Python\" is present\n",
    "for line in lines:\n",
    "    if search_word in line:  # Check if the word \"Python\" is in the current line\n",
    "        print(f\"Found '{search_word}' on line {line_number}\")\n",
    "    line_number += 1  # Increment line number after checking each line\n"
   ]
  },
  {
   "cell_type": "code",
   "execution_count": 45,
   "id": "792f3712-2b41-4c8f-9b6f-23b847c61e28",
   "metadata": {},
   "outputs": [
    {
     "name": "stdout",
     "output_type": "stream",
     "text": [
      "The content has been written to 'large_file.txt'.\n",
      "Created small_file_1.txt with lines 1 to 5.\n",
      "Created small_file_2.txt with lines 6 to 10.\n",
      "Created small_file_3.txt with lines 11 to 15.\n"
     ]
    }
   ],
   "source": [
    "#10\n",
    "# First, let's write some content into \"large_file.txt\"\n",
    "content_to_write = \"\"\"This is line 1.\n",
    "This is line 2.\n",
    "This is line 3.\n",
    "This is line 4.\n",
    "This is line 5.\n",
    "This is line 6.\n",
    "This is line 7.\n",
    "This is line 8.\n",
    "This is line 9.\n",
    "This is line 10.\n",
    "This is line 11.\n",
    "This is line 12.\n",
    "This is line 13.\n",
    "This is line 14.\n",
    "This is line 15.\"\"\"\n",
    "\n",
    "# Open the file \"large_file.txt\" in write mode and write the content\n",
    "with open('large_file.txt', 'w') as file:\n",
    "    file.write(content_to_write)\n",
    "\n",
    "print(\"The content has been written to 'large_file.txt'.\")\n",
    "\n",
    "# Now, let's split the large file into smaller files with 5 lines each\n",
    "lines_per_file = 5  # Specify how many lines should be in each smaller file\n",
    "\n",
    "# Open the large file and read all lines\n",
    "with open('large_file.txt', 'r') as file:\n",
    "    lines = file.readlines()\n",
    "\n",
    "# Split the lines into smaller chunks and write them into separate files\n",
    "total_lines = len(lines)\n",
    "file_number = 1\n",
    "for i in range(0, total_lines, lines_per_file):\n",
    "    # Slice the lines list to get the next set of lines\n",
    "    chunk = lines[i:i + lines_per_file]\n",
    "    \n",
    "    # Define the filename for the smaller file\n",
    "    smaller_filename = f\"small_file_{file_number}.txt\"\n",
    "    \n",
    "    # Write the chunk of lines into the smaller file\n",
    "    with open(smaller_filename, 'w') as smaller_file:\n",
    "        smaller_file.writelines(chunk)\n",
    "    \n",
    "    print(f\"Created {smaller_filename} with lines {i+1} to {i+len(chunk)}.\")\n",
    "    file_number += 1\n"
   ]
  },
  {
   "cell_type": "code",
   "execution_count": 47,
   "id": "8050a496-03ba-4536-a69b-52ef09c70711",
   "metadata": {},
   "outputs": [
    {
     "name": "stdout",
     "output_type": "stream",
     "text": [
      "Data has been written to 'example.csv'.\n",
      "['Name', 'Age', 'Country']\n",
      "['Alice', '30', 'USA']\n",
      "['Bob', '25', 'UK']\n",
      "['Charlie', '35', 'Canada']\n"
     ]
    }
   ],
   "source": [
    "#5\n",
    "import csv\n",
    "\n",
    "# Sample data to write to CSV\n",
    "data = [\n",
    "    ['Name', 'Age', 'Country'],\n",
    "    ['Alice', 30, 'USA'],\n",
    "    ['Bob', 25, 'UK'],\n",
    "    ['Charlie', 35, 'Canada']\n",
    "]\n",
    "\n",
    "# Writing data to 'example.csv'\n",
    "with open('example.csv', 'w', newline='') as file:\n",
    "    writer = csv.writer(file)\n",
    "    writer.writerows(data)\n",
    "\n",
    "print(\"Data has been written to 'example.csv'.\")\n",
    "\n",
    "# Reading from 'example.csv'\n",
    "with open('example.csv', 'r') as file:\n",
    "    reader = csv.reader(file)\n",
    "    for row in reader:\n",
    "        print(row)\n"
   ]
  },
  {
   "cell_type": "code",
   "execution_count": 49,
   "id": "b86b90b3-cf07-4443-9d68-fe7e8f414905",
   "metadata": {},
   "outputs": [
    {
     "name": "stdout",
     "output_type": "stream",
     "text": [
      "Binary data has been written to 'example.bin'.\n",
      "b'This is some binary data.'\n"
     ]
    }
   ],
   "source": [
    "#b\n",
    "# Data to write as bytes\n",
    "binary_data = b'This is some binary data.'\n",
    "\n",
    "# Writing binary data to 'example.bin'\n",
    "with open('example.bin', 'wb') as file:\n",
    "    file.write(binary_data)\n",
    "\n",
    "print(\"Binary data has been written to 'example.bin'.\")\n",
    "\n",
    "# Reading from 'example.bin'\n",
    "with open('example.bin', 'rb') as file:\n",
    "    content = file.read()\n",
    "    print(content)\n"
   ]
  },
  {
   "cell_type": "code",
   "execution_count": 51,
   "id": "6ccdb393-ae19-4257-be4d-647875c18057",
   "metadata": {},
   "outputs": [
    {
     "name": "stdout",
     "output_type": "stream",
     "text": [
      "Data has been written to 'example.json'.\n",
      "{'name': 'Alice', 'age': 30, 'city': 'New York'}\n"
     ]
    }
   ],
   "source": [
    "#c\n",
    "import json\n",
    "\n",
    "# Sample data to write to JSON\n",
    "data_json = {\n",
    "    \"name\": \"Alice\",\n",
    "    \"age\": 30,\n",
    "    \"city\": \"New York\"\n",
    "}\n",
    "\n",
    "# Writing data to 'example.json'\n",
    "with open('example.json', 'w') as file:\n",
    "    json.dump(data_json, file)\n",
    "\n",
    "print(\"Data has been written to 'example.json'.\")\n",
    "\n",
    "# Reading from 'example.json'\n",
    "with open('example.json', 'r') as file:\n",
    "    loaded_data = json.load(file)\n",
    "    print(loaded_data)\n"
   ]
  },
  {
   "cell_type": "code",
   "execution_count": null,
   "id": "4985d6d9-d0e7-4e3c-94ed-2f5a8f60ee89",
   "metadata": {},
   "outputs": [],
   "source": [
    "\n"
   ]
  }
 ],
 "metadata": {
  "kernelspec": {
   "display_name": "Python [conda env:base] *",
   "language": "python",
   "name": "conda-base-py"
  },
  "language_info": {
   "codemirror_mode": {
    "name": "ipython",
    "version": 3
   },
   "file_extension": ".py",
   "mimetype": "text/x-python",
   "name": "python",
   "nbconvert_exporter": "python",
   "pygments_lexer": "ipython3",
   "version": "3.12.7"
  }
 },
 "nbformat": 4,
 "nbformat_minor": 5
}
